{
  "nbformat": 4,
  "nbformat_minor": 0,
  "metadata": {
    "colab": {
      "provenance": [],
      "gpuType": "T4",
      "authorship_tag": "ABX9TyOYTAYplHJOMki1VeRnYfHR",
      "include_colab_link": true
    },
    "kernelspec": {
      "name": "python3",
      "display_name": "Python 3"
    },
    "language_info": {
      "name": "python"
    },
    "accelerator": "GPU"
  },
  "cells": [
    {
      "cell_type": "markdown",
      "metadata": {
        "id": "view-in-github",
        "colab_type": "text"
      },
      "source": [
        "<a href=\"https://colab.research.google.com/github/Zephyruss1/Zephyruss1/blob/main/Review_classification_activeLR.ipynb\" target=\"_parent\"><img src=\"https://colab.research.google.com/assets/colab-badge.svg\" alt=\"Open In Colab\"/></a>"
      ]
    },
    {
      "cell_type": "code",
      "execution_count": null,
      "metadata": {
        "id": "uUfDX1i4b-aP"
      },
      "outputs": [],
      "source": [
        "import tensorflow_datasets as tfds\n",
        "import tensorflow as tf\n",
        "from tensorflow import keras\n",
        "from tensorflow.keras import layers\n",
        "import matplotlib.pyplot as plt\n",
        "import plotly.express as px\n",
        "import re\n",
        "import string\n",
        "import warnings\n",
        "warnings.filterwarnings('ignore')\n",
        "tfds.disable_progress_bar()"
      ]
    },
    {
      "cell_type": "code",
      "source": [
        "dataset = tfds.load(\n",
        "    'imdb_reviews',\n",
        "    split='train+test',\n",
        "    as_supervised=True,\n",
        "    batch_size=-1,\n",
        "    shuffle_files=False\n",
        ")\n",
        "reviews, labels = tfds.as_numpy(dataset)\n",
        "print('Total examples:', reviews.shape[0])"
      ],
      "metadata": {
        "colab": {
          "base_uri": "https://localhost:8080/"
        },
        "id": "r8VJugMQcFAR",
        "outputId": "dca21220-27d5-4b42-a73d-672264b7bc26"
      },
      "execution_count": null,
      "outputs": [
        {
          "output_type": "stream",
          "name": "stdout",
          "text": [
            "Total examples: 50000\n"
          ]
        }
      ]
    },
    {
      "cell_type": "code",
      "source": [
        "# import pandas as pd\n",
        "# def show_missing_values(data):\n",
        "#   missing_data = data.isna().sum()\n",
        "#   missing_data_percent = data.isna().sum() / len(data)\n",
        "#   print(\"Duplicated data: \", data.duplicated().sum())\n",
        "#   result = pd.concat([missing_data, missing_data_percent], axis=1)\n",
        "#   result.columns = ['Missing Count', 'Missing Percent']\n",
        "#   return result\n",
        "\n",
        "# show_missing_values(dataset)\n",
        "\n",
        "\"\"\"\n",
        "Not worked because data packed with tuples.\n",
        "\"\"\""
      ],
      "metadata": {
        "colab": {
          "base_uri": "https://localhost:8080/",
          "height": 35
        },
        "id": "xWy4v3WdisYl",
        "outputId": "c89b10b7-cdec-414e-f8d8-dff7c62efa40"
      },
      "execution_count": null,
      "outputs": [
        {
          "output_type": "execute_result",
          "data": {
            "text/plain": [
              "'\\nNot worked because data packed with tuples.\\n'"
            ],
            "application/vnd.google.colaboratory.intrinsic+json": {
              "type": "string"
            }
          },
          "metadata": {},
          "execution_count": 11
        }
      ]
    },
    {
      "cell_type": "markdown",
      "source": [
        "## Data PreProcessing"
      ],
      "metadata": {
        "id": "q7nZfKXIvkMn"
      }
    },
    {
      "cell_type": "code",
      "source": [
        "val_split   = 2500\n",
        "test_split  = 2500\n",
        "train_split = 7500\n",
        "\n",
        "# Separating the negative and positive samples for manual stratification\n",
        "x_positives, y_positives = reviews[labels == 1], labels[labels == 1]\n",
        "x_negatives, y_negatives = reviews[labels == 0], labels[labels == 0]\n",
        "\n",
        "# Creating training, validation and testing splits\n",
        "x_val, y_val = (\n",
        "    tf.concat(\n",
        "        (\n",
        "            x_positives[:val_split], x_negatives[:val_split]\n",
        "\n",
        "        ),\n",
        "        0\n",
        "    ),\n",
        "    tf.concat(\n",
        "        (\n",
        "            y_positives[:val_split], y_negatives[:val_split]\n",
        "        ),\n",
        "        0\n",
        "    )\n",
        ")\n",
        "x_test, y_test = (\n",
        "    tf.concat(\n",
        "        (\n",
        "            x_positives[val_split : val_split + test_split],\n",
        "            x_negatives[val_split : val_split + test_split]\n",
        "        ),\n",
        "        0\n",
        "    ),\n",
        "    tf.concat(\n",
        "        (\n",
        "            y_positives[val_split : val_split + test_split],\n",
        "            y_negatives[val_split : val_split + test_split]\n",
        "        ),\n",
        "        0\n",
        "    ,\n",
        "    )\n",
        ")\n",
        "x_train, y_train = (\n",
        "    tf.concat(\n",
        "        (\n",
        "            x_positives[val_split + test_split : val_split + test_split + train_split],\n",
        "            x_negatives[val_split + test_split : val_split + test_split + train_split]\n",
        "        ),\n",
        "        0\n",
        "    ),\n",
        "    tf.concat(\n",
        "        (\n",
        "            y_positives[val_split + test_split : val_split + test_split + train_split],\n",
        "            y_negatives[val_split + test_split : val_split + test_split + train_split]\n",
        "        ),\n",
        "        0\n",
        "    )\n",
        ")\n",
        "x_pool_positives, y_pool_positives = (\n",
        "    x_positives[val_split + test_split + train_split :],\n",
        "    y_positives[val_split + test_split + train_split :]\n",
        ")\n",
        "x_pool_negatives, y_pool_negatives = (\n",
        "    x_negatives[val_split + test_split + train_split :],\n",
        "    y_negatives[val_split + test_split + train_split :]\n",
        ")\n",
        "\n",
        "train_dataset = tf.data.Dataset.from_tensor_slices((x_train, y_train))\n",
        "val_dataset   = tf.data.Dataset.from_tensor_slices((x_val, y_val))\n",
        "test_dataset  = tf.data.Dataset.from_tensor_slices((x_test, y_test))\n",
        "\n",
        "pool_negatives = tf.data.Dataset.from_tensor_slices(\n",
        "    (x_pool_negatives, y_pool_negatives)\n",
        ")\n",
        "\n",
        "pool_positives = tf.data.Dataset.from_tensor_slices(\n",
        "    (x_pool_positives, y_pool_positives)\n",
        ")\n",
        "print(f\"Initial training set size: {len(train_dataset)}\")\n",
        "print(f\"Validation set size: {len(val_dataset)}\")\n",
        "print(f\"Testing set size: {len(test_dataset)}\")\n",
        "print(f\"Unlabeled negative set size: {len(pool_negatives)}\")\n",
        "print(f\"Unlabeled positives set size: {len(pool_positives)}\")"
      ],
      "metadata": {
        "colab": {
          "base_uri": "https://localhost:8080/"
        },
        "id": "7waN5-kacG_Y",
        "outputId": "2db52a2e-f167-41e2-c78d-6668b3bec702"
      },
      "execution_count": null,
      "outputs": [
        {
          "output_type": "stream",
          "name": "stdout",
          "text": [
            "Initial training set size: 15000\n",
            "Validation set size: 5000\n",
            "Testing set size: 5000\n",
            "Unlabeled negative set size: 12500\n",
            "Unlabeled positives set size: 12500\n"
          ]
        }
      ]
    },
    {
      "cell_type": "markdown",
      "source": [
        "## Standardization and WORD2VEC"
      ],
      "metadata": {
        "id": "fKIm4_t4vnND"
      }
    },
    {
      "cell_type": "code",
      "source": [
        "# Custom standardization\n",
        "def standardization(data):\n",
        "  lowercase = tf.strings.lower(data)\n",
        "  stripped_html = tf.strings.regex_replace(lowercase, '<br />', ' ')\n",
        "  return tf.strings.regex_replace(\n",
        "      stripped_html, f\"[{re.escape(string.punctuation)}]\", \"\"\n",
        "  )\n",
        "\n",
        "vectorizer = layers.TextVectorization(3000, standardize=standardization, output_sequence_length=150)\n",
        "vectorizer.adapt(train_dataset.map(lambda x, y: x, num_parallel_calls=tf.data.AUTOTUNE).batch(256))\n",
        "\n",
        "# WORD2VEC\n",
        "def vectorize_text(text, label):\n",
        "  text = vectorizer(text)\n",
        "  return text, label\n",
        "\n",
        "# Vectrize --> train,test, val, pool negatives & positives datasets.\n",
        "train_dataset = train_dataset.map(\n",
        "    vectorize_text, num_parallel_calls=tf.data.AUTOTUNE\n",
        ").prefetch(tf.data.AUTOTUNE)\n",
        "\n",
        "pool_negatives = pool_negatives.map(vectorize_text, num_parallel_calls=tf.data.AUTOTUNE)\n",
        "pool_positives = pool_positives.map(vectorize_text, num_parallel_calls=tf.data.AUTOTUNE)\n",
        "\n",
        "val_dataset = val_dataset.batch(256).map(\n",
        "    vectorize_text, num_parallel_calls=tf.data.AUTOTUNE\n",
        ")\n",
        "test_dataset = test_dataset.batch(256).map(\n",
        "    vectorize_text, num_parallel_calls=tf.data.AUTOTUNE\n",
        ")"
      ],
      "metadata": {
        "id": "8wXlyGhzcPTy"
      },
      "execution_count": null,
      "outputs": []
    },
    {
      "cell_type": "markdown",
      "source": [
        "## Helper Functions"
      ],
      "metadata": {
        "id": "vFxz6BV2ht3B"
      }
    },
    {
      "cell_type": "code",
      "source": [
        "def append_history(losses, val_losses, accuracy, val_accuracy, history):\n",
        "  losses = losses + history.history['loss']\n",
        "  val_losses = val_losses + history.history['val_loss']\n",
        "  accuracy = accuracy + history.history['binary_accuracy']\n",
        "  val_accuracy = val_accuracy + history.history['val_binary_accuracy']\n",
        "  return losses, val_losses, accuracy, val_accuracy\n",
        "\n",
        "# Plot\n",
        "def plot_history(losses, val_losses, accuracies, val_accuracies):\n",
        "    fig = plt.figure()\n",
        "    fig.set_facecolor('black')\n",
        "    plt.plot(losses)\n",
        "    plt.plot(val_losses)\n",
        "    plt.legend([\"train_loss\", \"val_loss\"])\n",
        "    plt.xlabel(\"Epochs\")\n",
        "    plt.ylabel(\"Loss\")\n",
        "    plt.show()\n",
        "\n",
        "    plt.plot(accuracies)\n",
        "    plt.plot(val_accuracies)\n",
        "    plt.legend([\"train_accuracy\", \"val_accuracy\"])\n",
        "    plt.xlabel(\"Epochs\")\n",
        "    plt.ylabel(\"Accuracy\")\n",
        "    plt.show()\n"
      ],
      "metadata": {
        "id": "rfnk5YEMgvvf"
      },
      "execution_count": null,
      "outputs": []
    },
    {
      "cell_type": "code",
      "source": [
        "def create_model():\n",
        "  model = keras.models.Sequential(\n",
        "      [\n",
        "          layers.Input(shape=(150,)),\n",
        "          layers.Embedding(input_dim=3000, output_dim=128),\n",
        "          layers.Bidirectional(layers.LSTM(32, return_sequences=True)),\n",
        "          layers.GlobalMaxPooling1D(),\n",
        "          layers.Dense(20, activation='relu'),\n",
        "          layers.Dropout(0.25),\n",
        "          layers.Dense(1, activation='sigmoid')\n",
        "      ]\n",
        "  )\n",
        "  model.summary()\n",
        "  return model"
      ],
      "metadata": {
        "id": "cKvy-XkJkBss"
      },
      "execution_count": null,
      "outputs": []
    },
    {
      "cell_type": "markdown",
      "source": [
        "## Training Model"
      ],
      "metadata": {
        "id": "at1h7XiIvscA"
      }
    },
    {
      "cell_type": "code",
      "source": [
        "def train_full_model(full_train_dataset, val_dataset, test_dataset):\n",
        "  model = create_model()\n",
        "  model.compile(\n",
        "      loss='binary_crossentropy',\n",
        "      optimizer='rmsprop',\n",
        "      metrics=[\n",
        "        keras.metrics.BinaryAccuracy(),\n",
        "        keras.metrics.FalseNegatives(),\n",
        "        keras.metrics.FalsePositives(),\n",
        "      ],\n",
        "  )\n",
        "\n",
        "  history = model.fit(\n",
        "      full_train_dataset.batch(256),\n",
        "      epochs=20, # Train round\n",
        "      validation_data=val_dataset,\n",
        "      callbacks=[\n",
        "          keras.callbacks.EarlyStopping(patience=4),\n",
        "          keras.callbacks.ModelCheckpoint( # Save best turn in model.\n",
        "              'FullModelCheckpoint.h5', save_best_only=True\n",
        "          ),\n",
        "      ],\n",
        "  )\n",
        "\n",
        "\n",
        "  model = keras.models.load_model('FullModelCheckpoint.h5')\n",
        "  print('-' * 100)\n",
        "  print(\"test set evaluation: \", model.evaluate(test_dataset, return_dict=True))\n",
        "  print('-' * 100)\n",
        "  return model\n",
        "\n",
        "full_train_dataset=(\n",
        "    train_dataset.concatenate(pool_positives).concatenate(pool_negatives).cache().shuffle(20000)\n",
        ")\n",
        "\n",
        "full_dataset_model = train_full_model(full_train_dataset, val_dataset, test_dataset)"
      ],
      "metadata": {
        "colab": {
          "base_uri": "https://localhost:8080/"
        },
        "id": "7Tg2fXXplShn",
        "outputId": "bf149d3b-070f-4ed3-c546-a4652dbdae47"
      },
      "execution_count": null,
      "outputs": [
        {
          "output_type": "stream",
          "name": "stdout",
          "text": [
            "Model: \"sequential_5\"\n",
            "_________________________________________________________________\n",
            " Layer (type)                Output Shape              Param #   \n",
            "=================================================================\n",
            " embedding_5 (Embedding)     (None, 150, 128)          384000    \n",
            "                                                                 \n",
            " bidirectional_5 (Bidirecti  (None, 150, 64)           41216     \n",
            " onal)                                                           \n",
            "                                                                 \n",
            " global_max_pooling1d_5 (Gl  (None, 64)                0         \n",
            " obalMaxPooling1D)                                               \n",
            "                                                                 \n",
            " dense_10 (Dense)            (None, 20)                1300      \n",
            "                                                                 \n",
            " dropout_5 (Dropout)         (None, 20)                0         \n",
            "                                                                 \n",
            " dense_11 (Dense)            (None, 1)                 21        \n",
            "                                                                 \n",
            "=================================================================\n",
            "Total params: 426537 (1.63 MB)\n",
            "Trainable params: 426537 (1.63 MB)\n",
            "Non-trainable params: 0 (0.00 Byte)\n",
            "_________________________________________________________________\n",
            "Epoch 1/20\n",
            "157/157 [==============================] - 17s 67ms/step - loss: 0.5986 - binary_accuracy: 0.6894 - false_negatives_5: 4136.0000 - false_positives_5: 8289.0000 - val_loss: 0.4816 - val_binary_accuracy: 0.7820 - val_false_negatives_5: 871.0000 - val_false_positives_5: 219.0000\n",
            "Epoch 2/20\n",
            "157/157 [==============================] - 4s 23ms/step - loss: 0.3967 - binary_accuracy: 0.8278 - false_negatives_5: 3224.0000 - false_positives_5: 3666.0000 - val_loss: 0.4285 - val_binary_accuracy: 0.8274 - val_false_negatives_5: 689.0000 - val_false_positives_5: 174.0000\n",
            "Epoch 3/20\n",
            "157/157 [==============================] - 4s 25ms/step - loss: 0.3402 - binary_accuracy: 0.8574 - false_negatives_5: 2752.0000 - false_positives_5: 2952.0000 - val_loss: 0.3349 - val_binary_accuracy: 0.8508 - val_false_negatives_5: 413.0000 - val_false_positives_5: 333.0000\n",
            "Epoch 4/20\n",
            "157/157 [==============================] - 3s 20ms/step - loss: 0.3151 - binary_accuracy: 0.8668 - false_negatives_5: 2582.0000 - false_positives_5: 2745.0000 - val_loss: 0.5306 - val_binary_accuracy: 0.7648 - val_false_negatives_5: 1123.0000 - val_false_positives_5: 53.0000\n",
            "Epoch 5/20\n",
            "157/157 [==============================] - 3s 20ms/step - loss: 0.2998 - binary_accuracy: 0.8774 - false_negatives_5: 2427.0000 - false_positives_5: 2478.0000 - val_loss: 0.4079 - val_binary_accuracy: 0.8288 - val_false_negatives_5: 588.0000 - val_false_positives_5: 268.0000\n",
            "Epoch 6/20\n",
            "157/157 [==============================] - 3s 19ms/step - loss: 0.2794 - binary_accuracy: 0.8856 - false_negatives_5: 2260.0000 - false_positives_5: 2314.0000 - val_loss: 0.3266 - val_binary_accuracy: 0.8600 - val_false_negatives_5: 366.0000 - val_false_positives_5: 334.0000\n",
            "Epoch 7/20\n",
            "157/157 [==============================] - 3s 20ms/step - loss: 0.2713 - binary_accuracy: 0.8904 - false_negatives_5: 2175.0000 - false_positives_5: 2208.0000 - val_loss: 0.3384 - val_binary_accuracy: 0.8558 - val_false_negatives_5: 432.0000 - val_false_positives_5: 289.0000\n",
            "Epoch 8/20\n",
            "157/157 [==============================] - 3s 20ms/step - loss: 0.2614 - binary_accuracy: 0.8935 - false_negatives_5: 2111.0000 - false_positives_5: 2147.0000 - val_loss: 0.3300 - val_binary_accuracy: 0.8580 - val_false_negatives_5: 373.0000 - val_false_positives_5: 337.0000\n",
            "Epoch 9/20\n",
            "157/157 [==============================] - 4s 25ms/step - loss: 0.2523 - binary_accuracy: 0.8988 - false_negatives_5: 1994.0000 - false_positives_5: 2053.0000 - val_loss: 0.3618 - val_binary_accuracy: 0.8546 - val_false_negatives_5: 452.0000 - val_false_positives_5: 275.0000\n",
            "Epoch 10/20\n",
            "157/157 [==============================] - 3s 19ms/step - loss: 0.2404 - binary_accuracy: 0.9043 - false_negatives_5: 1902.0000 - false_positives_5: 1927.0000 - val_loss: 0.3710 - val_binary_accuracy: 0.8548 - val_false_negatives_5: 448.0000 - val_false_positives_5: 278.0000\n",
            "----------------------------------------------------------------------------------------------------\n",
            "20/20 [==============================] - 1s 13ms/step - loss: 0.3279 - binary_accuracy: 0.8616 - false_negatives_5: 376.0000 - false_positives_5: 316.0000\n",
            "test set evaluation:  {'loss': 0.327890545129776, 'binary_accuracy': 0.8615999817848206, 'false_negatives_5': 376.0, 'false_positives_5': 316.0}\n",
            "----------------------------------------------------------------------------------------------------\n"
          ]
        }
      ]
    },
    {
      "cell_type": "markdown",
      "source": [],
      "metadata": {
        "id": "fWA184W6uTbq"
      }
    },
    {
      "cell_type": "markdown",
      "source": [
        "1) False Negatives / All False Predictions\n",
        "\n",
        "2) False Positives / All False Predictions"
      ],
      "metadata": {
        "id": "NFRIslVHuap2"
      }
    },
    {
      "cell_type": "markdown",
      "source": [
        "## Training via Active Learning"
      ],
      "metadata": {
        "id": "aC4C3ngOvcJj"
      }
    },
    {
      "cell_type": "code",
      "source": [
        "def train_active_learning_models(\n",
        "    train_dataset,\n",
        "    pool_negatives,\n",
        "    pool_positives,\n",
        "    val_dataset,\n",
        "    test_dataset,\n",
        "    num_iterations=3,\n",
        "    sampling_size=5000\n",
        "):\n",
        "    losses, val_losses, accuracies, val_accuracies = [], [], [], []\n",
        "\n",
        "    model = create_model()\n",
        "\n",
        "    model.compile(\n",
        "        loss='binary_crossentropy',\n",
        "        optimizer='rmsprop',\n",
        "        metrics=[\n",
        "        keras.metrics.BinaryAccuracy(),\n",
        "        keras.metrics.FalseNegatives(),\n",
        "        keras.metrics.FalsePositives(),\n",
        "        ],\n",
        "    )\n",
        "\n",
        "    checkpoint = keras.callbacks.ModelCheckpoint(\n",
        "        'AL_Model.h5', save_best_only=True\n",
        "    )\n",
        "    early_stopping = keras.callbacks.EarlyStopping(patience=4)\n",
        "\n",
        "    print(f\"Starting to train with {len(train_dataset)} samples\")\n",
        "\n",
        "    history = model.fit(\n",
        "    full_train_dataset.shuffle(20000).batch(256),\n",
        "    epochs=20, # Train round\n",
        "    validation_data=val_dataset,\n",
        "    callbacks=[\n",
        "        checkpoint,\n",
        "        early_stopping\n",
        "      ],\n",
        "    )\n",
        "\n",
        "    losses, val_losses, accuracies, val_accuracies = append_history(\n",
        "         losses, val_losses, accuracies, val_accuracies, history\n",
        "    )\n",
        "\n",
        "    for iteration in range(num_iterations):\n",
        "      predictions = model.predict(test_dataset)\n",
        "\n",
        "      rounded = tf.where(tf.greater(predictions, 0.5), 1, 0)\n",
        "\n",
        "      _, _, false_negatives, false_positives = model.evaluate(test_dataset)\n",
        "\n",
        "      print(\"-\" * 100)\n",
        "      print(\n",
        "          f\"Number of zeros incorrectly classified: {false_negatives}, Number of ones incorrectly classified: {false_positives}\"\n",
        "      )\n",
        "\n",
        "      if false_negatives != 0 and false_positives !=0:\n",
        "        total = false_positives + false_positives\n",
        "        sample_ratio_ones, sample_ratio_zeros = (\n",
        "            false_positives / total,\n",
        "            false_negatives / total,\n",
        "        )\n",
        "\n",
        "      else:\n",
        "        sample_ratio_ones, sample_ratio_zeros = 0.5, 0.5\n",
        "      print(\n",
        "          f\"Sample ratio for positives: {sample_ratio_ones}, Sample ratio for negatives:{sample_ratio_zeros}\"\n",
        "          )\n",
        "      sampled_dataset = pool_negatives.take(\n",
        "          int(sample_ratio_zeros * sampling_size)\n",
        "      ).concatenate(pool_positives.take(int(sample_ratio_ones * sampling_size)))\n",
        "\n",
        "      pool_negatives = pool_negatives.skip(int(sample_ratio_zeros * sampling_size))\n",
        "      pool_positives = pool_positives.skip(int(sample_ratio_ones * sampling_size))\n",
        "\n",
        "      train_dataset = train_dataset.concatenate(sampled_dataset).prefetch(tf.data.AUTOTUNE)\n",
        "      print(f\"Starting training with {len(train_dataset)} samples\")\n",
        "      print(\"-\" * 100)\n",
        "\n",
        "      model.compile(\n",
        "            loss=\"binary_crossentropy\",\n",
        "            optimizer=\"rmsprop\",\n",
        "            metrics=[\n",
        "                keras.metrics.BinaryAccuracy(),\n",
        "                keras.metrics.FalseNegatives(),\n",
        "                keras.metrics.FalsePositives(),\n",
        "            ],\n",
        "        )\n",
        "\n",
        "      history = model.fit(\n",
        "          train_dataset.cache().shuffle(20000).batch(256),\n",
        "          validation_data=val_dataset,\n",
        "          epochs=20,\n",
        "          callbacks=[\n",
        "              checkpoint,\n",
        "              keras.callbacks.EarlyStopping(patience=4, verbose=1),\n",
        "          ],\n",
        "      )\n",
        "      losses, val_losses, accuracies, val_accuracies = append_history(\n",
        "            losses, val_losses, accuracies, val_accuracies, history\n",
        "        )\n",
        "\n",
        "        # Loading the best model from this training loop\n",
        "      model = keras.models.load_model(\"AL_Model.h5\")\n",
        "    plot_history(losses, val_losses, accuracies, val_accuracies)\n",
        "    print(\"-\" * 100)\n",
        "    print(\n",
        "        \"Test set evaluation: \",\n",
        "        model.evaluate(test_dataset, verbose=0, return_dict=True),\n",
        "    )\n",
        "    print(\"-\" * 100)\n",
        "    return model\n",
        "active_learning_model = train_active_learning_models(\n",
        "    train_dataset, pool_negatives, pool_positives, val_dataset, test_dataset\n",
        ")"
      ],
      "metadata": {
        "id": "-UZ9NcaXuxtc",
        "colab": {
          "base_uri": "https://localhost:8080/",
          "height": 1000
        },
        "outputId": "3c24784b-c6a9-4480-bb6d-83f840ca7bd6"
      },
      "execution_count": null,
      "outputs": [
        {
          "output_type": "stream",
          "name": "stdout",
          "text": [
            "Model: \"sequential_7\"\n",
            "_________________________________________________________________\n",
            " Layer (type)                Output Shape              Param #   \n",
            "=================================================================\n",
            " embedding_7 (Embedding)     (None, 150, 128)          384000    \n",
            "                                                                 \n",
            " bidirectional_7 (Bidirecti  (None, 150, 64)           41216     \n",
            " onal)                                                           \n",
            "                                                                 \n",
            " global_max_pooling1d_7 (Gl  (None, 64)                0         \n",
            " obalMaxPooling1D)                                               \n",
            "                                                                 \n",
            " dense_14 (Dense)            (None, 20)                1300      \n",
            "                                                                 \n",
            " dropout_7 (Dropout)         (None, 20)                0         \n",
            "                                                                 \n",
            " dense_15 (Dense)            (None, 1)                 21        \n",
            "                                                                 \n",
            "=================================================================\n",
            "Total params: 426537 (1.63 MB)\n",
            "Trainable params: 426537 (1.63 MB)\n",
            "Non-trainable params: 0 (0.00 Byte)\n",
            "_________________________________________________________________\n",
            "Starting to train with 15000 samples\n",
            "Epoch 1/20\n",
            "157/157 [==============================] - 12s 52ms/step - loss: 0.6438 - binary_accuracy: 0.6259 - false_negatives_7: 3391.0000 - false_positives_7: 11571.0000 - val_loss: 0.5472 - val_binary_accuracy: 0.7338 - val_false_negatives_7: 1175.0000 - val_false_positives_7: 156.0000\n",
            "Epoch 2/20\n",
            "157/157 [==============================] - 4s 28ms/step - loss: 0.4402 - binary_accuracy: 0.8058 - false_negatives_7: 3721.0000 - false_positives_7: 4046.0000 - val_loss: 0.3582 - val_binary_accuracy: 0.8460 - val_false_negatives_7: 388.0000 - val_false_positives_7: 382.0000\n",
            "Epoch 3/20\n",
            "157/157 [==============================] - 3s 21ms/step - loss: 0.3689 - binary_accuracy: 0.8456 - false_negatives_7: 2935.0000 - false_positives_7: 3240.0000 - val_loss: 0.4177 - val_binary_accuracy: 0.8068 - val_false_negatives_7: 98.0000 - val_false_positives_7: 868.0000\n",
            "Epoch 4/20\n",
            "157/157 [==============================] - 3s 21ms/step - loss: 0.3394 - binary_accuracy: 0.8607 - false_negatives_7: 2672.0000 - false_positives_7: 2902.0000 - val_loss: 0.3518 - val_binary_accuracy: 0.8482 - val_false_negatives_7: 557.0000 - val_false_positives_7: 202.0000\n",
            "Epoch 5/20\n",
            "157/157 [==============================] - 4s 22ms/step - loss: 0.3187 - binary_accuracy: 0.8693 - false_negatives_7: 2514.0000 - false_positives_7: 2713.0000 - val_loss: 0.3595 - val_binary_accuracy: 0.8446 - val_false_negatives_7: 598.0000 - val_false_positives_7: 179.0000\n",
            "Epoch 6/20\n",
            "157/157 [==============================] - 3s 19ms/step - loss: 0.3027 - binary_accuracy: 0.8792 - false_negatives_7: 2332.0000 - false_positives_7: 2501.0000 - val_loss: 0.3962 - val_binary_accuracy: 0.8300 - val_false_negatives_7: 132.0000 - val_false_positives_7: 718.0000\n",
            "Epoch 7/20\n",
            "157/157 [==============================] - 3s 18ms/step - loss: 0.2916 - binary_accuracy: 0.8832 - false_negatives_7: 2280.0000 - false_positives_7: 2390.0000 - val_loss: 0.3850 - val_binary_accuracy: 0.8416 - val_false_negatives_7: 145.0000 - val_false_positives_7: 647.0000\n",
            "Epoch 8/20\n",
            "157/157 [==============================] - 4s 23ms/step - loss: 0.2771 - binary_accuracy: 0.8896 - false_negatives_7: 2161.0000 - false_positives_7: 2256.0000 - val_loss: 0.3866 - val_binary_accuracy: 0.8366 - val_false_negatives_7: 141.0000 - val_false_positives_7: 676.0000\n",
            "20/20 [==============================] - 1s 12ms/step\n",
            "20/20 [==============================] - 0s 12ms/step - loss: 0.3839 - binary_accuracy: 0.8392 - false_negatives_7: 159.0000 - false_positives_7: 645.0000\n",
            "----------------------------------------------------------------------------------------------------\n",
            "Number of zeros incorrectly classified: 159.0, Number of ones incorrectly classified: 645.0\n",
            "Sample ratio for positives: 0.5, Sample ratio for negatives:0.12325581395348838\n",
            "Starting training with 18116 samples\n",
            "----------------------------------------------------------------------------------------------------\n",
            "Epoch 1/20\n",
            "71/71 [==============================] - 11s 83ms/step - loss: 0.2643 - binary_accuracy: 0.8991 - false_negatives_8: 868.0000 - false_positives_8: 959.0000 - val_loss: 0.3434 - val_binary_accuracy: 0.8562 - val_false_negatives_8: 263.0000 - val_false_positives_8: 456.0000\n",
            "Epoch 2/20\n",
            "71/71 [==============================] - 3s 43ms/step - loss: 0.2369 - binary_accuracy: 0.9120 - false_negatives_8: 767.0000 - false_positives_8: 828.0000 - val_loss: 0.3447 - val_binary_accuracy: 0.8576 - val_false_negatives_8: 305.0000 - val_false_positives_8: 407.0000\n",
            "Epoch 3/20\n",
            "71/71 [==============================] - 2s 30ms/step - loss: 0.2196 - binary_accuracy: 0.9219 - false_negatives_8: 675.0000 - false_positives_8: 740.0000 - val_loss: 0.4059 - val_binary_accuracy: 0.8460 - val_false_negatives_8: 193.0000 - val_false_positives_8: 577.0000\n",
            "Epoch 4/20\n",
            "71/71 [==============================] - 2s 29ms/step - loss: 0.2047 - binary_accuracy: 0.9284 - false_negatives_8: 629.0000 - false_positives_8: 669.0000 - val_loss: 0.3757 - val_binary_accuracy: 0.8556 - val_false_negatives_8: 289.0000 - val_false_positives_8: 433.0000\n",
            "Epoch 5/20\n",
            "71/71 [==============================] - 2s 26ms/step - loss: 0.1871 - binary_accuracy: 0.9357 - false_negatives_8: 582.0000 - false_positives_8: 582.0000 - val_loss: 0.4166 - val_binary_accuracy: 0.8522 - val_false_negatives_8: 256.0000 - val_false_positives_8: 483.0000\n",
            "Epoch 5: early stopping\n",
            "20/20 [==============================] - 1s 12ms/step\n",
            "20/20 [==============================] - 1s 14ms/step - loss: 0.3451 - binary_accuracy: 0.8596 - false_negatives_8: 268.0000 - false_positives_8: 434.0000\n",
            "----------------------------------------------------------------------------------------------------\n",
            "Number of zeros incorrectly classified: 268.0, Number of ones incorrectly classified: 434.0\n",
            "Sample ratio for positives: 0.5, Sample ratio for negatives:0.3087557603686636\n",
            "Starting training with 22159 samples\n",
            "----------------------------------------------------------------------------------------------------\n",
            "Epoch 1/20\n",
            "87/87 [==============================] - 14s 75ms/step - loss: 0.2461 - binary_accuracy: 0.9065 - false_negatives_9: 994.0000 - false_positives_9: 1077.0000 - val_loss: 0.3422 - val_binary_accuracy: 0.8566 - val_false_negatives_9: 359.0000 - val_false_positives_9: 358.0000\n",
            "Epoch 2/20\n",
            "87/87 [==============================] - 3s 37ms/step - loss: 0.2305 - binary_accuracy: 0.9143 - false_negatives_9: 918.0000 - false_positives_9: 980.0000 - val_loss: 0.4292 - val_binary_accuracy: 0.8282 - val_false_negatives_9: 144.0000 - val_false_positives_9: 715.0000\n",
            "Epoch 3/20\n",
            "87/87 [==============================] - 3s 29ms/step - loss: 0.2155 - binary_accuracy: 0.9214 - false_negatives_9: 841.0000 - false_positives_9: 901.0000 - val_loss: 0.3621 - val_binary_accuracy: 0.8568 - val_false_negatives_9: 329.0000 - val_false_positives_9: 387.0000\n",
            "Epoch 4/20\n",
            "87/87 [==============================] - 3s 28ms/step - loss: 0.2020 - binary_accuracy: 0.9273 - false_negatives_9: 782.0000 - false_positives_9: 829.0000 - val_loss: 0.3861 - val_binary_accuracy: 0.8510 - val_false_negatives_9: 278.0000 - val_false_positives_9: 467.0000\n",
            "Epoch 5/20\n",
            "87/87 [==============================] - 2s 22ms/step - loss: 0.1856 - binary_accuracy: 0.9354 - false_negatives_9: 701.0000 - false_positives_9: 730.0000 - val_loss: 0.4409 - val_binary_accuracy: 0.8396 - val_false_negatives_9: 199.0000 - val_false_positives_9: 603.0000\n",
            "Epoch 5: early stopping\n",
            "20/20 [==============================] - 1s 12ms/step\n",
            "20/20 [==============================] - 1s 14ms/step - loss: 0.3509 - binary_accuracy: 0.8550 - false_negatives_9: 398.0000 - false_positives_9: 327.0000\n",
            "----------------------------------------------------------------------------------------------------\n",
            "Number of zeros incorrectly classified: 398.0, Number of ones incorrectly classified: 327.0\n",
            "Sample ratio for positives: 0.5, Sample ratio for negatives:0.6085626911314985\n",
            "Starting training with 27701 samples\n",
            "----------------------------------------------------------------------------------------------------\n",
            "Epoch 1/20\n",
            "109/109 [==============================] - 15s 73ms/step - loss: 0.2434 - binary_accuracy: 0.9068 - false_negatives_10: 1249.0000 - false_positives_10: 1333.0000 - val_loss: 0.3467 - val_binary_accuracy: 0.8572 - val_false_negatives_10: 277.0000 - val_false_positives_10: 437.0000\n",
            "Epoch 2/20\n",
            "109/109 [==============================] - 4s 33ms/step - loss: 0.2285 - binary_accuracy: 0.9154 - false_negatives_10: 1121.0000 - false_positives_10: 1223.0000 - val_loss: 0.4033 - val_binary_accuracy: 0.8294 - val_false_negatives_10: 642.0000 - val_false_positives_10: 211.0000\n",
            "Epoch 3/20\n",
            "109/109 [==============================] - 3s 30ms/step - loss: 0.2134 - binary_accuracy: 0.9207 - false_negatives_10: 1068.0000 - false_positives_10: 1128.0000 - val_loss: 0.3979 - val_binary_accuracy: 0.8302 - val_false_negatives_10: 643.0000 - val_false_positives_10: 206.0000\n",
            "Epoch 4/20\n",
            "109/109 [==============================] - 3s 23ms/step - loss: 0.2014 - binary_accuracy: 0.9279 - false_negatives_10: 977.0000 - false_positives_10: 1021.0000 - val_loss: 0.4837 - val_binary_accuracy: 0.8194 - val_false_negatives_10: 737.0000 - val_false_positives_10: 166.0000\n",
            "Epoch 5/20\n",
            "109/109 [==============================] - 3s 25ms/step - loss: 0.1904 - binary_accuracy: 0.9319 - false_negatives_10: 953.0000 - false_positives_10: 934.0000 - val_loss: 0.3856 - val_binary_accuracy: 0.8528 - val_false_negatives_10: 311.0000 - val_false_positives_10: 425.0000\n",
            "Epoch 5: early stopping\n"
          ]
        },
        {
          "output_type": "display_data",
          "data": {
            "text/plain": [
              "<Figure size 640x480 with 1 Axes>"
            ],
            "image/png": "[encoded data removed]"
          },
          "metadata": {}
        },
        {
          "output_type": "display_data",
          "data": {
            "text/plain": [
              "<Figure size 640x480 with 1 Axes>"
            ],
            "image/png": "[encoded data removed]"
          },
          "metadata": {}
        },
        {
          "output_type": "stream",
          "name": "stdout",
          "text": [
            "----------------------------------------------------------------------------------------------------\n",
            "Test set evaluation:  {'loss': 0.3508985638618469, 'binary_accuracy': 0.8550000190734863, 'false_negatives_9': 398.0, 'false_positives_9': 327.0}\n",
            "----------------------------------------------------------------------------------------------------\n"
          ]
        }
      ]
    }
  ]
}